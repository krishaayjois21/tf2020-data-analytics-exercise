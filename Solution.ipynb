{
 "cells": [
  {
   "cell_type": "markdown",
   "metadata": {},
   "source": [
    "# IITB Techfest 2020 Data Analytics Workshop Assignment"
   ]
  },
  {
   "cell_type": "code",
   "execution_count": 1,
   "metadata": {},
   "outputs": [
    {
     "name": "stdout",
     "output_type": "stream",
     "text": [
      "Requirement already satisfied: sklearn in c:\\programdata\\anaconda3\\lib\\site-packages (0.0)\n",
      "Requirement already satisfied: scikit-learn in c:\\programdata\\anaconda3\\lib\\site-packages (from sklearn) (0.23.1)\n",
      "Requirement already satisfied: numpy>=1.13.3 in c:\\programdata\\anaconda3\\lib\\site-packages (from scikit-learn->sklearn) (1.18.5)\n",
      "Requirement already satisfied: threadpoolctl>=2.0.0 in c:\\programdata\\anaconda3\\lib\\site-packages (from scikit-learn->sklearn) (2.1.0)\n",
      "Requirement already satisfied: joblib>=0.11 in c:\\programdata\\anaconda3\\lib\\site-packages (from scikit-learn->sklearn) (0.16.0)\n",
      "Requirement already satisfied: scipy>=0.19.1 in c:\\programdata\\anaconda3\\lib\\site-packages (from scikit-learn->sklearn) (1.5.0)\n"
     ]
    }
   ],
   "source": [
    "# Install Required Modules\n",
    "!pip install sklearn"
   ]
  },
  {
   "cell_type": "code",
   "execution_count": 2,
   "metadata": {},
   "outputs": [],
   "source": [
    "# Module Imports\n",
    "import pandas as pd\n",
    "import numpy as np\n",
    "from sklearn import linear_model\n",
    "import matplotlib.pyplot as plt\n",
    "from matplotlib import font_manager as fm, rcParams"
   ]
  },
  {
   "cell_type": "code",
   "execution_count": 3,
   "metadata": {
    "scrolled": true
   },
   "outputs": [
    {
     "name": "stdout",
     "output_type": "stream",
     "text": [
      "    year  per_capita_income\n",
      "0   1970        3399.299037\n",
      "1   1971        3768.297935\n",
      "2   1972        4251.175484\n",
      "3   1973        4804.463248\n",
      "4   1974        5576.514583\n",
      "5   1975        5998.144346\n",
      "6   1976        7062.131392\n",
      "7   1977        7100.126170\n",
      "8   1978        7247.967035\n",
      "9   1979        7602.912681\n",
      "10  1980        8355.968120\n",
      "11  1981        9434.390652\n",
      "12  1982        9619.438377\n",
      "13  1983       10416.536590\n",
      "14  1984       10790.328720\n",
      "15  1985       11018.955850\n",
      "16  1986       11482.891530\n",
      "17  1987       12974.806620\n",
      "18  1988       15080.283450\n",
      "19  1989       16426.725480\n",
      "20  1990       16838.673200\n",
      "21  1991       17266.097690\n",
      "22  1992       16412.083090\n",
      "23  1993       15875.586730\n",
      "24  1994       15755.820270\n",
      "25  1995       16369.317250\n",
      "26  1996       16699.826680\n",
      "27  1997       17310.757750\n",
      "28  1998       16622.671870\n",
      "29  1999       17581.024140\n",
      "30  2000       18987.382410\n",
      "31  2001       18601.397240\n",
      "32  2002       19232.175560\n",
      "33  2003       22739.426280\n",
      "34  2004       25719.147150\n",
      "35  2005       29198.055690\n",
      "36  2006       32738.262900\n",
      "37  2007       36144.481220\n",
      "38  2008       37446.486090\n",
      "39  2009       32755.176820\n",
      "40  2010       38420.522890\n",
      "41  2011       42334.711210\n",
      "42  2012       42665.255970\n",
      "43  2013       42676.468370\n",
      "44  2014       41039.893600\n",
      "45  2015       35175.188980\n",
      "46  2016       34229.193630\n"
     ]
    }
   ],
   "source": [
    "# Read Data from canada_per_capita_income.csv\n",
    "df = pd.read_csv('canada_per_capita_income.csv')\n",
    "print(df)"
   ]
  },
  {
   "cell_type": "code",
   "execution_count": 4,
   "metadata": {},
   "outputs": [
    {
     "data": {
      "text/plain": [
       "<matplotlib.collections.PathCollection at 0x221ff6c1cd0>"
      ]
     },
     "execution_count": 4,
     "metadata": {},
     "output_type": "execute_result"
    },
    {
     "data": {
      "image/png": "[encoded data removed]",
      "text/plain": [
       "<Figure size 432x288 with 1 Axes>"
      ]
     },
     "metadata": {
      "needs_background": "light"
     },
     "output_type": "display_data"
    }
   ],
   "source": [
    "# Fonts to make graph look better\n",
    "csbold = {'fontname':'Comic Sans MS' , 'fontweight': 'bold'}\n",
    "csreg = {'fontname':'Comic Sans MS'}\n",
    "# Show Datapoints on graph\n",
    "%matplotlib inline\n",
    "plt.xlabel('Year' , **csreg)\n",
    "plt.ylabel('Per Capita Income ($)' , **csreg)\n",
    "plt.title('Per Capita Income of Canada' , **csbold)\n",
    "plt.scatter(df.year , df.per_capita_income , color='green' , marker='+')"
   ]
  },
  {
   "cell_type": "code",
   "execution_count": 5,
   "metadata": {},
   "outputs": [],
   "source": [
    "old_years = df.drop('per_capita_income' , axis='columns')\n",
    "old_pci = df.per_capita_income"
   ]
  },
  {
   "cell_type": "code",
   "execution_count": 6,
   "metadata": {},
   "outputs": [
    {
     "data": {
      "text/plain": [
       "LinearRegression()"
      ]
     },
     "execution_count": 6,
     "metadata": {},
     "output_type": "execute_result"
    }
   ],
   "source": [
    "# Create Linear Regression Object\n",
    "reg = linear_model.LinearRegression()\n",
    "reg.fit(old_years,old_pci)"
   ]
  },
  {
   "cell_type": "markdown",
   "metadata": {},
   "source": [
    "**Test Prediction**\n",
    "**$ x $** : 2020"
   ]
  },
  {
   "cell_type": "code",
   "execution_count": 7,
   "metadata": {},
   "outputs": [
    {
     "name": "stdout",
     "output_type": "stream",
     "text": [
      "2020\n"
     ]
    },
    {
     "data": {
      "text/plain": [
       "array([41288.69409442])"
      ]
     },
     "execution_count": 7,
     "metadata": {},
     "output_type": "execute_result"
    }
   ],
   "source": [
    "x = 2020\n",
    "print(x)\n",
    "reg.predict([[x]])"
   ]
  },
  {
   "cell_type": "markdown",
   "metadata": {},
   "source": [
    "_Calculate Slope:_ $ m $"
   ]
  },
  {
   "cell_type": "code",
   "execution_count": 8,
   "metadata": {},
   "outputs": [
    {
     "name": "stdout",
     "output_type": "stream",
     "text": [
      "[828.46507522]\n"
     ]
    }
   ],
   "source": [
    "# Slope M (Coefficient)\n",
    "m = reg.coef_\n",
    "print(m)"
   ]
  },
  {
   "cell_type": "markdown",
   "metadata": {},
   "source": [
    "_Calculate Intercept:_ **$ c $**"
   ]
  },
  {
   "cell_type": "code",
   "execution_count": 9,
   "metadata": {},
   "outputs": [
    {
     "name": "stdout",
     "output_type": "stream",
     "text": [
      "-1632210.7578554575\n"
     ]
    }
   ],
   "source": [
    "c = reg.intercept_\n",
    "print(c)"
   ]
  },
  {
   "cell_type": "markdown",
   "metadata": {},
   "source": [
    "_Calculate:_ **$ y $** <br>\n",
    "_Equation:_ **$ y = mx + c $**"
   ]
  },
  {
   "cell_type": "code",
   "execution_count": 10,
   "metadata": {},
   "outputs": [
    {
     "name": "stdout",
     "output_type": "stream",
     "text": [
      "[41288.69409442]\n"
     ]
    }
   ],
   "source": [
    "y = m*x + c\n",
    "print(y)"
   ]
  },
  {
   "cell_type": "markdown",
   "metadata": {},
   "source": [
    "<h3>Generate CSV File with PCI Predictions</h3>"
   ]
  },
  {
   "cell_type": "code",
   "execution_count": 11,
   "metadata": {},
   "outputs": [
    {
     "name": "stdout",
     "output_type": "stream",
     "text": [
      "    year\n",
      "0   2030\n",
      "1   2032\n",
      "2   2056\n",
      "3   2080\n",
      "4   2090\n",
      "5   2100\n",
      "6   2105\n",
      "7   2108\n",
      "8   2116\n",
      "9   2125\n",
      "10  2129\n",
      "11  2138\n",
      "12  2205\n"
     ]
    }
   ],
   "source": [
    "# Load years for which we want predictions\n",
    "required_years = pd.read_csv('years.csv')\n",
    "print(required_years)"
   ]
  },
  {
   "cell_type": "code",
   "execution_count": 12,
   "metadata": {},
   "outputs": [
    {
     "name": "stdout",
     "output_type": "stream",
     "text": [
      "[ 49573.34484664  51230.27499709  71113.43680244  90996.59860778\n",
      "  99281.24936001 107565.90011223 111708.22548835 114193.62071402\n",
      " 120821.3413158  128277.5269928  131591.38729369 139047.5729707\n",
      " 194554.73301062]\n"
     ]
    }
   ],
   "source": [
    "# Run Linear Regression\n",
    "predictions = reg.predict(required_years)\n",
    "print(predictions)"
   ]
  },
  {
   "cell_type": "code",
   "execution_count": 13,
   "metadata": {},
   "outputs": [],
   "source": [
    "predictions_df = required_years\n",
    "predictions_df['predicted_per_capita_income'] = predictions"
   ]
  },
  {
   "cell_type": "code",
   "execution_count": 14,
   "metadata": {},
   "outputs": [],
   "source": [
    "predictions_df.to_csv('predicted_pci.csv')"
   ]
  }
 ],
 "metadata": {
  "kernelspec": {
   "display_name": "Python 3",
   "language": "python",
   "name": "python3"
  },
  "language_info": {
   "codemirror_mode": {
    "name": "ipython",
    "version": 3
   },
   "file_extension": ".py",
   "mimetype": "text/x-python",
   "name": "python",
   "nbconvert_exporter": "python",
   "pygments_lexer": "ipython3",
   "version": "3.8.3"
  }
 },
 "nbformat": 4,
 "nbformat_minor": 4
}
